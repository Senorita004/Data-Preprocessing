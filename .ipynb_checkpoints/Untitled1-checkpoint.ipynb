{
 "cells": [
  {
   "cell_type": "raw",
   "id": "440c8923-bf13-4cd5-8dae-b127881896c7",
   "metadata": {},
   "source": [
    "IMPORTING THE LIBRARIES "
   ]
  },
  {
   "cell_type": "code",
   "execution_count": 201,
   "id": "d1bf316f-8c3e-4f9f-9a67-503912d24f37",
   "metadata": {},
   "outputs": [],
   "source": [
    "import numpy as np\n",
    "import pandas as pd\n",
    "import matplotlib.pyplot as plt"
   ]
  },
  {
   "cell_type": "markdown",
   "id": "5b095d04-8a5d-4308-9432-143b20471b9d",
   "metadata": {},
   "source": [
    "IMPORTING THE DATASET"
   ]
  },
  {
   "cell_type": "code",
   "execution_count": 202,
   "id": "8ab00a75-3b1c-4feb-9051-1b45b1757d13",
   "metadata": {},
   "outputs": [],
   "source": [
    "dataset = pd.read_csv('Data.csv')\n",
    "#if the dataset file is seperated by ; use a delimiter or sep e.g\n",
    "#dataset = pd.read_csv('Data.csv', delimiter=';')\n",
    "\n",
    "#create X & y entities. note that : indicates all values in the range, -1 indicates last column and upper range is excluded \n",
    "# so always increase by 1\n",
    "\n",
    "#seperating the features\n",
    "X = dataset.iloc[: , :-1].values\n",
    "# or if aware of the target you can do this e.g\n",
    "# dataset.drop('Purchased', axis=1)- where axis 1 is column\n",
    "\n",
    "#seperating the target\n",
    "y = dataset.iloc[:, -1].values\n",
    "#or if you are aware of the target name \n",
    "# y = dataset['Purchased']"
   ]
  },
  {
   "cell_type": "code",
   "execution_count": 203,
   "id": "2e824081-05c5-478a-8081-3343a8124b66",
   "metadata": {},
   "outputs": [
    {
     "name": "stdout",
     "output_type": "stream",
     "text": [
      "[['France' 44.0 72000.0]\n",
      " ['Spain' 27.0 48000.0]\n",
      " ['Germany' 30.0 54000.0]\n",
      " ['Spain' 38.0 61000.0]\n",
      " ['Germany' 40.0 nan]\n",
      " ['France' 35.0 58000.0]\n",
      " ['Spain' nan 52000.0]\n",
      " ['France' 48.0 79000.0]\n",
      " ['Germany' 50.0 83000.0]\n",
      " ['France' 37.0 67000.0]]\n"
     ]
    }
   ],
   "source": [
    "print(X)"
   ]
  },
  {
   "cell_type": "code",
   "execution_count": 204,
   "id": "de024453-cc15-41c3-8b01-22d3cd4a4308",
   "metadata": {},
   "outputs": [
    {
     "name": "stdout",
     "output_type": "stream",
     "text": [
      "['No' 'Yes' 'No' 'No' 'Yes' 'Yes' 'No' 'Yes' 'No' 'Yes']\n"
     ]
    }
   ],
   "source": [
    "print(y)"
   ]
  },
  {
   "cell_type": "markdown",
   "id": "835017a8-3030-45a9-88f5-328043262152",
   "metadata": {},
   "source": [
    "TAKING CARE OF MISSING DATA"
   ]
  },
  {
   "cell_type": "code",
   "execution_count": 205,
   "id": "702cce55-aa6a-4591-a454-64fb650bf7fd",
   "metadata": {},
   "outputs": [
    {
     "data": {
      "text/html": [
       "<div>\n",
       "<style scoped>\n",
       "    .dataframe tbody tr th:only-of-type {\n",
       "        vertical-align: middle;\n",
       "    }\n",
       "\n",
       "    .dataframe tbody tr th {\n",
       "        vertical-align: top;\n",
       "    }\n",
       "\n",
       "    .dataframe thead th {\n",
       "        text-align: right;\n",
       "    }\n",
       "</style>\n",
       "<table border=\"1\" class=\"dataframe\">\n",
       "  <thead>\n",
       "    <tr style=\"text-align: right;\">\n",
       "      <th></th>\n",
       "      <th>Country</th>\n",
       "      <th>Age</th>\n",
       "      <th>Salary</th>\n",
       "      <th>Purchased</th>\n",
       "    </tr>\n",
       "  </thead>\n",
       "  <tbody>\n",
       "    <tr>\n",
       "      <th>0</th>\n",
       "      <td>False</td>\n",
       "      <td>False</td>\n",
       "      <td>False</td>\n",
       "      <td>False</td>\n",
       "    </tr>\n",
       "    <tr>\n",
       "      <th>1</th>\n",
       "      <td>False</td>\n",
       "      <td>False</td>\n",
       "      <td>False</td>\n",
       "      <td>False</td>\n",
       "    </tr>\n",
       "    <tr>\n",
       "      <th>2</th>\n",
       "      <td>False</td>\n",
       "      <td>False</td>\n",
       "      <td>False</td>\n",
       "      <td>False</td>\n",
       "    </tr>\n",
       "    <tr>\n",
       "      <th>3</th>\n",
       "      <td>False</td>\n",
       "      <td>False</td>\n",
       "      <td>False</td>\n",
       "      <td>False</td>\n",
       "    </tr>\n",
       "    <tr>\n",
       "      <th>4</th>\n",
       "      <td>False</td>\n",
       "      <td>False</td>\n",
       "      <td>True</td>\n",
       "      <td>False</td>\n",
       "    </tr>\n",
       "    <tr>\n",
       "      <th>5</th>\n",
       "      <td>False</td>\n",
       "      <td>False</td>\n",
       "      <td>False</td>\n",
       "      <td>False</td>\n",
       "    </tr>\n",
       "    <tr>\n",
       "      <th>6</th>\n",
       "      <td>False</td>\n",
       "      <td>True</td>\n",
       "      <td>False</td>\n",
       "      <td>False</td>\n",
       "    </tr>\n",
       "    <tr>\n",
       "      <th>7</th>\n",
       "      <td>False</td>\n",
       "      <td>False</td>\n",
       "      <td>False</td>\n",
       "      <td>False</td>\n",
       "    </tr>\n",
       "    <tr>\n",
       "      <th>8</th>\n",
       "      <td>False</td>\n",
       "      <td>False</td>\n",
       "      <td>False</td>\n",
       "      <td>False</td>\n",
       "    </tr>\n",
       "    <tr>\n",
       "      <th>9</th>\n",
       "      <td>False</td>\n",
       "      <td>False</td>\n",
       "      <td>False</td>\n",
       "      <td>False</td>\n",
       "    </tr>\n",
       "  </tbody>\n",
       "</table>\n",
       "</div>"
      ],
      "text/plain": [
       "   Country    Age  Salary  Purchased\n",
       "0    False  False   False      False\n",
       "1    False  False   False      False\n",
       "2    False  False   False      False\n",
       "3    False  False   False      False\n",
       "4    False  False    True      False\n",
       "5    False  False   False      False\n",
       "6    False   True   False      False\n",
       "7    False  False   False      False\n",
       "8    False  False   False      False\n",
       "9    False  False   False      False"
      ]
     },
     "execution_count": 205,
     "metadata": {},
     "output_type": "execute_result"
    }
   ],
   "source": [
    "#checking for null values. true means there is a null value there\n",
    "dataset.isnull()"
   ]
  },
  {
   "cell_type": "code",
   "execution_count": 206,
   "id": "a8b2a922-489f-4476-bd79-8c8a0dd74c65",
   "metadata": {},
   "outputs": [
    {
     "data": {
      "text/plain": [
       "Country      0\n",
       "Age          1\n",
       "Salary       1\n",
       "Purchased    0\n",
       "dtype: int64"
      ]
     },
     "execution_count": 206,
     "metadata": {},
     "output_type": "execute_result"
    }
   ],
   "source": [
    "#calculating total null values in a column\n",
    "dataset.isnull().sum()"
   ]
  },
  {
   "cell_type": "code",
   "execution_count": 207,
   "id": "4fa1cd2e-87be-4f23-9e66-5062caef3dc5",
   "metadata": {},
   "outputs": [
    {
     "data": {
      "text/plain": [
       "2"
      ]
     },
     "execution_count": 207,
     "metadata": {},
     "output_type": "execute_result"
    }
   ],
   "source": [
    "#calculating the total null values in the whole dataset\n",
    "dataset.isnull().sum().sum()"
   ]
  },
  {
   "cell_type": "code",
   "execution_count": 208,
   "id": "588b7243-359d-430a-9cc1-4f240a50ab30",
   "metadata": {},
   "outputs": [],
   "source": [
    "from sklearn.impute import SimpleImputer\n",
    "imputer = SimpleImputer(missing_values = np.nan, strategy='mean')\n",
    "\n",
    "#applying the imputer object on the matrix of features x\n",
    "imputer.fit(X[:, 1:3])\n",
    "\n",
    "#transform will apply the transform strategy in this case 'mean'\n",
    "X[:, 1:3] = imputer.transform(X[:, 1:3]) "
   ]
  },
  {
   "cell_type": "code",
   "execution_count": 209,
   "id": "6a1dbb75-7b4d-4301-b27f-768adf07b4b9",
   "metadata": {},
   "outputs": [
    {
     "name": "stdout",
     "output_type": "stream",
     "text": [
      "[['France' 44.0 72000.0]\n",
      " ['Spain' 27.0 48000.0]\n",
      " ['Germany' 30.0 54000.0]\n",
      " ['Spain' 38.0 61000.0]\n",
      " ['Germany' 40.0 63777.77777777778]\n",
      " ['France' 35.0 58000.0]\n",
      " ['Spain' 38.77777777777778 52000.0]\n",
      " ['France' 48.0 79000.0]\n",
      " ['Germany' 50.0 83000.0]\n",
      " ['France' 37.0 67000.0]]\n"
     ]
    }
   ],
   "source": [
    "#printing the new matrix of features x\n",
    "print(X)"
   ]
  },
  {
   "cell_type": "markdown",
   "id": "d773a326-c080-4ed8-b953-ea70edb0d4b4",
   "metadata": {},
   "source": [
    "ENCODING CATEGORICAL DATA"
   ]
  },
  {
   "cell_type": "markdown",
   "id": "df37f8be-63d5-4a1f-adf5-fcfdbe9e72b8",
   "metadata": {},
   "source": [
    "- Encoding the independent varaible"
   ]
  },
  {
   "cell_type": "code",
   "execution_count": 210,
   "id": "0f20e26c-9dd1-402d-b418-79ae9c2d7ccd",
   "metadata": {},
   "outputs": [],
   "source": [
    "#importing column transformer class from scikit-learn library\n",
    "from sklearn.compose import ColumnTransformer\n",
    "\n",
    "#importing one hot encoding class from the pre-processing module\n",
    "from sklearn.preprocessing import OneHotEncoder\n",
    "\n",
    "#you can create a list containing the categorical features and call it in ColumnTransformer instance e.g\n",
    "# categorical_features = ['Country']\n",
    "\n",
    "#Implementing an instance from the column transformer class using a variable ct\n",
    "ct = ColumnTransformer(transformers=[('encoder', OneHotEncoder(),[0])], remainder= 'passthrough')\n",
    "#NOTE- the [0] can be replaced with a list that contains selected categorical features\n",
    "\n",
    "#Applying the fit_transform method on the instance of ColumnTransformer\n",
    "X = ct.fit_transform(X)\n",
    "# OR X = ct.fit_transform(dataset))\n",
    "\n",
    "#remember to convert the output into a numpy array for independent variables\n",
    "X = np.array(X)  "
   ]
  },
  {
   "cell_type": "code",
   "execution_count": 211,
   "id": "2a7716fe-2676-46e1-a010-5c23380b29fb",
   "metadata": {},
   "outputs": [
    {
     "name": "stdout",
     "output_type": "stream",
     "text": [
      "[[1.0 0.0 0.0 44.0 72000.0]\n",
      " [0.0 0.0 1.0 27.0 48000.0]\n",
      " [0.0 1.0 0.0 30.0 54000.0]\n",
      " [0.0 0.0 1.0 38.0 61000.0]\n",
      " [0.0 1.0 0.0 40.0 63777.77777777778]\n",
      " [1.0 0.0 0.0 35.0 58000.0]\n",
      " [0.0 0.0 1.0 38.77777777777778 52000.0]\n",
      " [1.0 0.0 0.0 48.0 79000.0]\n",
      " [0.0 1.0 0.0 50.0 83000.0]\n",
      " [1.0 0.0 0.0 37.0 67000.0]]\n"
     ]
    }
   ],
   "source": [
    "#printing the matrix of features\n",
    "print(X)"
   ]
  },
  {
   "cell_type": "markdown",
   "id": "0c8962f8-66d6-4aba-80a9-e243cd656863",
   "metadata": {},
   "source": [
    "- Encoding the dependent variable"
   ]
  },
  {
   "cell_type": "code",
   "execution_count": 212,
   "id": "34968538-ef09-4e9d-aa2b-d8004f889185",
   "metadata": {},
   "outputs": [],
   "source": [
    "#using LabelEncoder to encode binary categorical data\n",
    "from sklearn.preprocessing import LabelEncoder \n",
    "\n",
    "#since its only one column in y nothing will be written in the parenthesis\n",
    "le = LabelEncoder()\n",
    "\n",
    "#output does not need to be converted into a numpy array because its a dependent variable\n",
    "y = le.fit_transform(y)\n",
    "#Note- it can also be written by selecting the column with dependent variable e.g\n",
    "# y = le.fit_transform(dataset['purchased'])"
   ]
  },
  {
   "cell_type": "code",
   "execution_count": 213,
   "id": "bc70e904-d367-4704-b245-30e85ea5667a",
   "metadata": {},
   "outputs": [
    {
     "name": "stdout",
     "output_type": "stream",
     "text": [
      "[0 1 0 0 1 1 0 1 0 1]\n"
     ]
    }
   ],
   "source": [
    "#printing the dependent variable vector\n",
    "print(y)"
   ]
  },
  {
   "cell_type": "markdown",
   "id": "53861211-59c7-4627-9957-66c5833959aa",
   "metadata": {},
   "source": [
    "SPLITTING THE DATASET INTO THE TRAINING AND TEST SET"
   ]
  },
  {
   "cell_type": "code",
   "execution_count": 214,
   "id": "4eede6f4-ec0e-40c3-add9-039ece19e202",
   "metadata": {},
   "outputs": [],
   "source": [
    "from sklearn.model_selection import train_test_split\n",
    "\n",
    "#Note- test size is 20%, if random state has an integer usually 42, it will produce same result whenever the dataset is splitted\n",
    "# else if 0, it will produce a different result each time\n",
    "X_train, X_test, y_train, y_test = train_test_split(X, y, test_size = 0.2, random_state = 1)"
   ]
  },
  {
   "cell_type": "code",
   "execution_count": 215,
   "id": "339cab09-c148-4fb3-8008-ebaea05aac86",
   "metadata": {},
   "outputs": [
    {
     "name": "stdout",
     "output_type": "stream",
     "text": [
      "[[0.0 0.0 1.0 38.77777777777778 52000.0]\n",
      " [0.0 1.0 0.0 40.0 63777.77777777778]\n",
      " [1.0 0.0 0.0 44.0 72000.0]\n",
      " [0.0 0.0 1.0 38.0 61000.0]\n",
      " [0.0 0.0 1.0 27.0 48000.0]\n",
      " [1.0 0.0 0.0 48.0 79000.0]\n",
      " [0.0 1.0 0.0 50.0 83000.0]\n",
      " [1.0 0.0 0.0 35.0 58000.0]]\n"
     ]
    }
   ],
   "source": [
    "print(X_train)"
   ]
  },
  {
   "cell_type": "code",
   "execution_count": 216,
   "id": "052c0747-bc15-471a-843d-7dd6e04e7a49",
   "metadata": {},
   "outputs": [
    {
     "name": "stdout",
     "output_type": "stream",
     "text": [
      "[[0.0 1.0 0.0 30.0 54000.0]\n",
      " [1.0 0.0 0.0 37.0 67000.0]]\n"
     ]
    }
   ],
   "source": [
    "print(X_test)"
   ]
  },
  {
   "cell_type": "code",
   "execution_count": 217,
   "id": "80518b71-fdab-4d49-a9aa-46d36b55e2da",
   "metadata": {},
   "outputs": [
    {
     "name": "stdout",
     "output_type": "stream",
     "text": [
      "[0 1 0 0 1 1 0 1]\n"
     ]
    }
   ],
   "source": [
    "print(y_train)"
   ]
  },
  {
   "cell_type": "code",
   "execution_count": 218,
   "id": "c2ff4320-bd53-46a4-8358-979b2005555f",
   "metadata": {},
   "outputs": [
    {
     "name": "stdout",
     "output_type": "stream",
     "text": [
      "[0 1]\n"
     ]
    }
   ],
   "source": [
    "print(y_test)"
   ]
  },
  {
   "cell_type": "markdown",
   "id": "6130150d-7b37-4009-9812-2278beaab84e",
   "metadata": {},
   "source": [
    "FEATURE SCALING -\n",
    "This is not always used in every machine learning model.\n",
    "Note feature scaling will not be applied to the dummy column(country)"
   ]
  },
  {
   "cell_type": "code",
   "execution_count": 219,
   "id": "6bf1351f-0f6b-4af8-9022-b28740837a87",
   "metadata": {
    "tags": []
   },
   "outputs": [],
   "source": [
    "#Applying feature scaling on the training and test sets using standardscaler"
   ]
  },
  {
   "cell_type": "code",
   "execution_count": 226,
   "id": "25af9ba4-a12d-4d7c-85b5-f331c07934d1",
   "metadata": {},
   "outputs": [],
   "source": [
    "from sklearn.preprocessing import StandardScaler\n",
    "sc = StandardScaler()\n",
    "X_train[:, 3:] = sc.fit_transform(X_train[:, 3:])\n",
    "X_test[:, 3:] = sc.fit_transform(X_test[:, 3:])                            \n"
   ]
  },
  {
   "cell_type": "code",
   "execution_count": 227,
   "id": "5a649ee2-d53c-4ad3-baeb-d2c14fb4de7d",
   "metadata": {
    "tags": []
   },
   "outputs": [
    {
     "name": "stdout",
     "output_type": "stream",
     "text": [
      "[[0.0 0.0 1.0 -0.19159184384578545 -1.0781259408412425]\n",
      " [0.0 1.0 0.0 -0.014117293757057777 -0.07013167641635372]\n",
      " [1.0 0.0 0.0 0.566708506533324 0.633562432710455]\n",
      " [0.0 0.0 1.0 -0.30453019390224867 -0.30786617274297867]\n",
      " [0.0 0.0 1.0 -1.9018011447007988 -1.420463615551582]\n",
      " [1.0 0.0 0.0 1.1475343068237058 1.232653363453549]\n",
      " [0.0 1.0 0.0 1.4379472069688968 1.5749910381638885]\n",
      " [1.0 0.0 0.0 -0.7401495441200351 -0.5646194287757332]]\n"
     ]
    }
   ],
   "source": [
    "print(X_train)"
   ]
  },
  {
   "cell_type": "code",
   "execution_count": 228,
   "id": "a2dddaca-28f6-4fb5-babc-9893ee3f5046",
   "metadata": {},
   "outputs": [
    {
     "name": "stdout",
     "output_type": "stream",
     "text": [
      "[[0.0 1.0 0.0 -1.0 -1.0]\n",
      " [1.0 0.0 0.0 1.0 1.0]]\n"
     ]
    }
   ],
   "source": [
    "print(X_test)"
   ]
  },
  {
   "cell_type": "code",
   "execution_count": null,
   "id": "ae09176c-b0c7-4764-a14b-7a7f81cfab8f",
   "metadata": {},
   "outputs": [],
   "source": []
  }
 ],
 "metadata": {
  "kernelspec": {
   "display_name": "Python 3 (ipykernel)",
   "language": "python",
   "name": "python3"
  },
  "language_info": {
   "codemirror_mode": {
    "name": "ipython",
    "version": 3
   },
   "file_extension": ".py",
   "mimetype": "text/x-python",
   "name": "python",
   "nbconvert_exporter": "python",
   "pygments_lexer": "ipython3",
   "version": "3.9.13"
  }
 },
 "nbformat": 4,
 "nbformat_minor": 5
}
